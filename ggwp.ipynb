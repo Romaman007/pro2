{
 "cells": [
  {
   "cell_type": "code",
   "execution_count": null,
   "outputs": [],
   "source": [
    "\n",
    "import sqlite3 as sq\n",
    "\n",
    "def sql_start():\n",
    "    global base, cur\n",
    "    base = sq.connect(r'C:\\Users\\Roman Andreevich\\pythonProject21\\post.db')\n",
    "    cur = base.cursor()\n",
    "    if base:\n",
    "        print('DBase connected!')\n",
    "    base.execute('CREATE TABLE IF NOT EXISTS users_main(post_id PRIMARY KEY,user_id INT, date_of_post VARCHAR, likes INT, comments INT, reposts INT, text VARCHAR )')\n",
    "    base.execute('CREATE TABLE IF NOT EXISTS priznavashki(post_id PRIMARY KEY,user_id INT, date_of_post VARCHAR, likes INT, comments INT,reposts INT,text VARCHAR )')\n",
    "    base.execute('CREATE TABLE IF NOT EXISTS likes_comments(user_id PRIMARY KEY, likes INT, comments INT )')\n",
    "    base.execute('CREATE TABLE IF NOT EXISTS all_comments(comment_id PRIMARY KEY,user_id INT,post_id INT, likes INT,text VARCHAR, date_of_comment VARCHAR,likes_id INT )')\n",
    "    base.commit()\n",
    "\n",
    "def add_post(id,owner_id,date,likes,comments,reposts,text):\n",
    "    cur.execute('INSERT INTO priznavashki VALUES (?,?,?,?,?,?,?)', (id,owner_id,date,likes,comments,reposts,text))\n",
    "    base.commit()\n",
    "\n",
    "def add_post_search(id,owner_id,date,likes,comments,reposts,text):\n",
    "    cur.execute('INSERT INTO users_main VALUES (?,?,?,?,?,?,?)', (id,owner_id,date,likes,comments,reposts,text))\n",
    "    base.commit()\n",
    "\n",
    "def add_user_likes(id,likes,comments):\n",
    "    cur.execute('INSERT INTO likes_comments VALUES (?,?,?)', (id,likes,comments))\n",
    "    base.commit()\n",
    "\n",
    "def check(data):\n",
    "    dat = cur.execute('SELECT likes,comments FROM likes_comments WHERE user_id== ?',(data,)).fetchone()\n",
    "    return dat\n",
    "\n",
    "def add_something_blyat_uzhe_i_zaebalsya(user_id):\n",
    "    cur.execute('UPDATE likes_comments SET likes==imp.likes+1 FROM( SELECT likes  FROM likes_comments WHERE user_id== ?) AS imp WHERE user_id== ?',(user_id,user_id))\n",
    "    base.commit()\n",
    "\n",
    "def add_comment(id,user_id,post_id,likes,text,data,lk_array):\n",
    "    cur.execute('INSERT INTO all_comments VALUES (?,?,?,?,?,?,?)', (id,user_id,post_id,likes,text,data,lk_array))\n",
    "    base.commit()\n",
    "\n",
    "sql_start()"
   ],
   "metadata": {
    "collapsed": false
   }
  },
  {
   "cell_type": "code",
   "execution_count": null,
   "outputs": [],
   "source": [
    "import vk_api\n",
    "from datetime import datetime\n",
    "def auth_handler():\n",
    "    key = input(\"Enter authentication code: \")\n",
    "    remember_device = True\n",
    "    return key, remember_device\n",
    "\n",
    "def get_public_posts(pub_id):\n",
    "    login, password = '+79539152617', 'Ukulele12!'\n",
    "    vk_session = vk_api.VkApi(login, password,auth_handler=auth_handler)\n",
    "\n",
    "    try:\n",
    "        vk_session.auth(token_only=True)\n",
    "    except vk_api.AuthError as error_msg:\n",
    "        print(error_msg)\n",
    "        return\n",
    "\n",
    "    tools = vk_api.VkTools(vk_session)\n",
    "    count =1\n",
    "    wall = tools.get_all_iter('wall.get', 50, {'owner_id':pub_id})\n",
    "    for i in range(1000000):\n",
    "        post = next(wall)\n",
    "        try:\n",
    "            if post['signer_id']!=post['owner_id']:\n",
    "                add_post(post['id'],post['signer_id'],datetime.fromtimestamp(post['date']).strftime('%Y-%m-%d'),post['likes']['count'],post['comments']['count'],post['reposts']['count'],post['text'])\n",
    "        except:\n",
    "            add_post(post['id'],post['owner_id'],datetime.fromtimestamp(post['date']).strftime('%Y-%m-%d'),post['likes']['count'],post['comments']['count'],post['reposts']['count'],post['text'])\n",
    "get_public_posts(-59518047)"
   ],
   "metadata": {
    "collapsed": false
   }
  },
  {
   "cell_type": "code",
   "execution_count": null,
   "outputs": [],
   "source": [
    "from time import sleep\n",
    "import requests\n",
    "from datetime import datetime\n",
    "def get_data(method, params_method, offset=0, count=200,lenm=200):\n",
    "    params = {\n",
    "        'access_token': 'vk1.a.rjAJ3MCcjB6HI_Lk9Ala-MRkgeCaMDWJDFN-7VpyT0fWGBiRcD1pv_sYziEofBnVf-O_Ji8CLTWS2QaY_vNo4R2yFXWGKgUP8ylCL9OFtdIL8teqI27T5QM8uYqfR5tsudgamNqqwEZ3IWiDouziuM0w3tc8iI5qqBPLU9WTVvew-9WpI5OWmb9VmevQiRg6dn3n06hMnaseC6Lkf3iIgQ',\n",
    "        'v': 5.131,\n",
    "        'count': count,\n",
    "        'offset': offset,\n",
    "    }\n",
    "    for key, item in params_method.items():\n",
    "        params[key] = item\n",
    "    data=[]\n",
    "    response = requests.get(f'https://api.vk.com/method/{method}', params=params)\n",
    "    try:\n",
    "        response_data = response.json()['response']['items']\n",
    "        data.extend(response_data)\n",
    "    except KeyError:\n",
    "        pass\n",
    "        params['offset']+=params['count']\n",
    "    if method == 'wall.get':\n",
    "        print(f'Log: Get info from owner_id: {params[\"owner_id\"]}. He has {len(data)} posts on a wall')\n",
    "    return data"
   ],
   "metadata": {
    "collapsed": false
   }
  },
  {
   "cell_type": "code",
   "execution_count": null,
   "outputs": [],
   "source": [
    "method = 'newsfeed.search'\n",
    "dic = ['спбгу','spbu']\n",
    "params_search={\n",
    "    'q':'spbu'\n",
    "}\n",
    "\n",
    "data = get_data(method,params_search)\n",
    "\n",
    "for i,post in enumerate(data):\n",
    "    try:\n",
    "        add_post_search(post['id'],post['owner_id'],datetime.fromtimestamp(post['date']).strftime('%Y-%m-%d'),post['likes']['count'],post['comments']['count'],post['reposts']['count'],post['text'])\n",
    "    except:\n",
    "        pass\n"
   ],
   "metadata": {
    "collapsed": false
   }
  },
  {
   "cell_type": "code",
   "execution_count": null,
   "outputs": [],
   "source": [
    "import pandas as pd\n",
    "df = pd.read_sql_query(\"SELECT * from users_main\", base)"
   ],
   "metadata": {
    "collapsed": false
   }
  },
  {
   "cell_type": "code",
   "execution_count": null,
   "outputs": [],
   "source": [
    "\n",
    "def get_likes(df):\n",
    "    for id in df['post_id']:\n",
    "        params_get_likes = {\n",
    "                'type': 'post',\n",
    "                'owner_id': -59518047 ,\n",
    "                'item_id': id,\n",
    "                'friends_only': 0\n",
    "            }\n",
    "        method = 'likes.getList'\n",
    "        data = get_data(method,params_get_likes)\n",
    "        for i in data:\n",
    "            try:\n",
    "                add_user_likes(i,1,0)\n",
    "            except:\n",
    "                sqll = 'UPDATE likes_comments SET likes==imp.likes+1 FROM( SELECT likes  FROM likes_comments WHERE user_id== ?) AS imp WHERE user_id== ?'\n",
    "                cur.execute(sqll,(i,i))\n",
    "                base.commit()\n"
   ],
   "metadata": {
    "collapsed": false
   }
  },
  {
   "cell_type": "code",
   "execution_count": null,
   "outputs": [],
   "source": [
    "def get_comments_stat(df):\n",
    "    for id in df['post_id']:\n",
    "        params_get_comments = {\n",
    "                'preview_length': 0,\n",
    "                'owner_id': -59518047 ,\n",
    "                'post_id': id,\n",
    "                'need_likes': 1,\n",
    "            }\n",
    "        method = 'wall.getComments'\n",
    "        data = get_data(method,params_get_comments)\n",
    "        for i in data:\n",
    "            try:\n",
    "                add_user_likes(i['from_id'],0,1)\n",
    "            except:\n",
    "                sqll = 'UPDATE likes_comments SET comments==imp.comments+1 FROM( SELECT comments  FROM likes_comments WHERE user_id== ?) AS imp WHERE user_id== ?'\n",
    "                cur.execute(sqll,(i['from_id'],i['from_id']))\n",
    "                base.commit()"
   ],
   "metadata": {
    "collapsed": false
   }
  },
  {
   "cell_type": "code",
   "execution_count": null,
   "outputs": [],
   "source": [
    "k=0\n",
    "for id in df['post_id']:\n",
    "    k+=1\n",
    "    params_get_comments = {\n",
    "            'preview_length': 0,\n",
    "            'owner_id': -59518047 ,\n",
    "            'post_id': 409058,\n",
    "            'need_likes': 1,\n",
    "            'thread_items_count':10\n",
    "        }\n",
    "    method = 'wall.getComments'\n",
    "    data = get_data(method,params_get_comments)\n",
    "    for i in data:\n",
    "        lk_array=[]\n",
    "        try:\n",
    "            for j in i['thread']['items']:\n",
    "                lk_array=[]\n",
    "                try:\n",
    "                    params_get_likes = {\n",
    "                    'type': 'comment',\n",
    "                    'owner_id': -59518047 ,\n",
    "                    'item_id': j['id'],\n",
    "                    'friends_only': 0\n",
    "                            }\n",
    "                    method = 'likes.getList'\n",
    "                    lk_array = get_data(method,params_get_likes)\n",
    "                    add_comment(j['id'],j['from_id'],j['post_id'],j['likes']['count'],j['text'],datetime.fromtimestamp(j['date']).strftime('%Y-%m-%d'),str(lk_array))\n",
    "                except:\n",
    "                    try:\n",
    "                        add_comment(j['id'],j['from_id'],j['post_id'],j['likes']['count'],j['text'],datetime.fromtimestamp(j['date']).strftime('%Y-%m-%d'),str(lk_array))\n",
    "                    except:\n",
    "                        pass\n",
    "        except:\n",
    "            pass\n",
    "        lk_array=[]\n",
    "        try:\n",
    "            params_get_likes = {\n",
    "            'type': 'comment',\n",
    "            'owner_id': -59518047 ,\n",
    "            'item_id': i['id'],\n",
    "            'friends_only': 0,\n",
    "            'filter':'likes'\n",
    "                    }\n",
    "            method = 'likes.getList'\n",
    "            lk_array = get_data(method,params_get_likes)\n",
    "            add_comment(i['id'],i['from_id'],i['post_id'],i['likes']['count'],i['text'],datetime.fromtimestamp(i['date']).strftime('%Y-%m-%d'),str(lk_array))\n",
    "        except:\n",
    "            try:\n",
    "                add_comment(i['id'],i['from_id'],i['post_id'],i['likes']['count'],i['text'],datetime.fromtimestamp(i['date']).strftime('%Y-%m-%d'),str(lk_array))\n",
    "            except:\n",
    "                pass\n",
    "    if k%500==0:\n",
    "        print(k)"
   ],
   "metadata": {
    "collapsed": false
   }
  },
  {
   "cell_type": "code",
   "execution_count": null,
   "outputs": [],
   "source": [],
   "metadata": {
    "collapsed": false
   }
  }
 ],
 "metadata": {
  "kernelspec": {
   "display_name": "Python 3",
   "language": "python",
   "name": "python3"
  },
  "language_info": {
   "codemirror_mode": {
    "name": "ipython",
    "version": 2
   },
   "file_extension": ".py",
   "mimetype": "text/x-python",
   "name": "python",
   "nbconvert_exporter": "python",
   "pygments_lexer": "ipython2",
   "version": "2.7.6"
  }
 },
 "nbformat": 4,
 "nbformat_minor": 0
}
